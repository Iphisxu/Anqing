{
 "cells": [
  {
   "attachments": {},
   "cell_type": "markdown",
   "metadata": {},
   "source": [
    "# 安徽安庆市项目`WRF-CMAQ`模拟分析\n",
    "## 观测结果预处理\n",
    "\n",
    "---\n",
    "*@author: Evan*\\\n",
    "*@date: 2023-04-10*"
   ]
  },
  {
   "cell_type": "code",
   "execution_count": 1,
   "metadata": {},
   "outputs": [],
   "source": [
    "import xarray as xr\n",
    "import numpy as np\n",
    "import pandas as pd\n",
    "import matplotlib.pyplot as plt\n",
    "import os\n",
    "\n",
    "from matplotlib import rcParams\n",
    "config = {\n",
    "    \"font.family\":'Times New Roman',\n",
    "    \"mathtext.fontset\":'stix',\n",
    "    \"font.serif\": ['SimSun'],\n",
    "}\n",
    "rcParams.update(config)\n",
    "\n",
    "import cartopy.crs as ccrs\n",
    "import cartopy.feature as cfeat\n",
    "from cartopy.io.shapereader import Reader\n",
    "\n",
    "# silence the warning note\n",
    "import warnings\n",
    "warnings.filterwarnings(\"ignore\")"
   ]
  },
  {
   "cell_type": "code",
   "execution_count": 2,
   "metadata": {},
   "outputs": [],
   "source": [
    "sites = pd.read_excel('F:/Data/case_anqing/obs_202302_fromlzj/data4research-hefei.xlsx',header=0,sheet_name='station')\n",
    "xls = pd.read_excel('F:/Data/case_anqing/obs_202302_fromlzj/data4research-hefei.xlsx',header=0,sheet_name='data')\n",
    "\n",
    "xls['datetime'] = pd.to_datetime(xls[['Year', 'Month', 'Day', 'Hour']], format='%Y-%m-%d %H:%M:%S')\n",
    "xls.drop(['Year', 'Month', 'Day', 'Hour'], axis=1, inplace=True)\n",
    "xls.set_index('datetime',inplace=True)"
   ]
  },
  {
   "cell_type": "code",
   "execution_count": 3,
   "metadata": {},
   "outputs": [
    {
     "name": "stdout",
     "output_type": "stream",
     "text": [
      "saving PM2.5.xlsx\n",
      "saving NO2.xlsx\n",
      "saving O3.xlsx\n"
     ]
    }
   ],
   "source": [
    "# items = ['PM2.5', 'PM10', 'SO2', 'NO2', 'O3', 'O3_8h', 'CO',]\n",
    "items = ['PM2.5', 'NO2', 'O3',]\n",
    "groups = xls.groupby('Station')\n",
    "\n",
    "for item in items:\n",
    "    obs = {}\n",
    "    for gp in groups:\n",
    "        station = gp[0]\n",
    "        data = gp[1][item]\n",
    "        obs[station-1] = data\n",
    "    df = pd.concat(obs,axis=1)\n",
    "    \n",
    "    df.to_excel('./obsdata/'+str(item)+'.xlsx')\n",
    "    print('saving '+str(item)+'.xlsx')"
   ]
  },
  {
   "cell_type": "code",
   "execution_count": 4,
   "metadata": {},
   "outputs": [],
   "source": [
    "sites.to_excel('./obsdata/sites.xlsx')\n",
    "xls.to_excel('./obsdata/obsdata.xlsx')"
   ]
  }
 ],
 "metadata": {
  "kernelspec": {
   "display_name": "base",
   "language": "python",
   "name": "python3"
  },
  "language_info": {
   "codemirror_mode": {
    "name": "ipython",
    "version": 3
   },
   "file_extension": ".py",
   "mimetype": "text/x-python",
   "name": "python",
   "nbconvert_exporter": "python",
   "pygments_lexer": "ipython3",
   "version": "3.8.8"
  },
  "orig_nbformat": 4
 },
 "nbformat": 4,
 "nbformat_minor": 2
}
