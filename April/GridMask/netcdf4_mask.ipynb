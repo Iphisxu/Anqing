{
 "cells": [
  {
   "attachments": {},
   "cell_type": "markdown",
   "metadata": {},
   "source": [
    "# 安徽安庆市项目4月`CMAQ-ISAM`\n",
    "## 利用`MCIP`生成的`IOAPI`制作`GridMask.nc`\n",
    "\n",
    "---\n",
    "*@author: Evan*\\\n",
    "*@date: 2023-04-30*"
   ]
  },
  {
   "cell_type": "code",
   "execution_count": 1,
   "metadata": {},
   "outputs": [],
   "source": [
    "import numpy as np\n",
    "import netCDF4 as nc\n",
    "\n",
    "# silence the warning note\n",
    "import warnings\n",
    "warnings.filterwarnings(\"ignore\")"
   ]
  },
  {
   "cell_type": "code",
   "execution_count": 2,
   "metadata": {},
   "outputs": [],
   "source": [
    "input = nc.Dataset('./input/GRIDCRO2D_2023100.nc','r+')"
   ]
  },
  {
   "cell_type": "code",
   "execution_count": 3,
   "metadata": {},
   "outputs": [],
   "source": [
    "# METCRO2D\n",
    "# var_name = {'PRSFC':'Anqing',\n",
    "#             'USTAR':'Hefei',\n",
    "#             'WSTAR':'Tongling',\n",
    "#             'PBL':'Chizhou',\n",
    "#             'ZRUF':'Jiujiang',\n",
    "#             'MOLI':'Wuhu',\n",
    "#             'HFX':'Maanshan'}\n",
    "\n",
    "# GRIDCRO2D\n",
    "var_name = {'MSFX2':'Anqing',\n",
    "            'HT':'Hefei',\n",
    "            'DLUSE':'Tongling',\n",
    "            'LWMASK':'Chizhou',\n",
    "            'PURB':'Jiujiang',}"
   ]
  },
  {
   "cell_type": "code",
   "execution_count": 4,
   "metadata": {},
   "outputs": [],
   "source": [
    "# 修改变量名\n",
    "for old_var, new_var in var_name.items():\n",
    "    variable = input.variables.pop(old_var)  # 取出旧变量\n",
    "    new_variable = input.createVariable(new_var, variable.datatype, variable.dimensions)  # 根据旧变量创建新变量\n",
    "    new_variable.setncatts(variable.__dict__)  # 复制旧变量的属性到新变量\n",
    "    new_variable[:] = variable[:]  # 复制旧变量的值到新变量\n",
    "    # del input.variables[old_var]"
   ]
  },
  {
   "cell_type": "code",
   "execution_count": 5,
   "metadata": {},
   "outputs": [
    {
     "data": {
      "text/plain": [
       "'LAT             LON             Anqing          Hefei           Tongling        Chizhou         Jiujiang        '"
      ]
     },
     "execution_count": 5,
     "metadata": {},
     "output_type": "execute_result"
    }
   ],
   "source": [
    "# 修改VAR-LIST\n",
    "var_list = input.getncattr('VAR-LIST').split()\n",
    "for i, var in enumerate(var_list):\n",
    "    if var in var_name:\n",
    "        var_list[i] = var_name[var].ljust(16)\n",
    "    else:\n",
    "        var_list[i] = var_list[i].ljust(16)\n",
    "input.setncattr('VAR-LIST',''.join(var_list))\n",
    "input.getncattr('VAR-LIST')"
   ]
  },
  {
   "cell_type": "code",
   "execution_count": 6,
   "metadata": {},
   "outputs": [],
   "source": [
    "import geopandas as gpd\n",
    "import shapely.geometry as sgeom\n",
    "from shapely.prepared import prep\n",
    "\n",
    "def polygon_to_mask(polygon, x, y):\n",
    "    '''\n",
    "    Generate a mask array of points falling into the polygon\n",
    "    '''\n",
    "    x = np.atleast_1d(x)\n",
    "    y = np.atleast_1d(y)\n",
    "    mask = np.zeros(x.shape, dtype=bool)\n",
    "\n",
    "    # if each point falls into a polygon, without boundaries\n",
    "    prepared = prep(polygon)\n",
    "    for index in np.ndindex(x.shape):\n",
    "        point = sgeom.Point(x[index], y[index])\n",
    "        if prepared.contains(point):\n",
    "            mask[index] = True\n",
    "\n",
    "    return mask"
   ]
  },
  {
   "cell_type": "code",
   "execution_count": 7,
   "metadata": {},
   "outputs": [
    {
     "data": {
      "text/plain": [
       "(138, 135)"
      ]
     },
     "execution_count": 7,
     "metadata": {},
     "output_type": "execute_result"
    }
   ],
   "source": [
    "lat = np.squeeze(input['LAT'])\n",
    "lon = np.squeeze(input['LON'])\n",
    "lat.shape"
   ]
  },
  {
   "cell_type": "code",
   "execution_count": 8,
   "metadata": {},
   "outputs": [
    {
     "name": "stdout",
     "output_type": "stream",
     "text": [
      "156.09528\n"
     ]
    },
    {
     "data": {
      "text/plain": [
       "(1, 1, 138, 135)"
      ]
     },
     "execution_count": 8,
     "metadata": {},
     "output_type": "execute_result"
    }
   ],
   "source": [
    "aq1 = input['Hefei']\n",
    "print(np.mean(aq1))\n",
    "aq1.shape"
   ]
  },
  {
   "cell_type": "code",
   "execution_count": 9,
   "metadata": {},
   "outputs": [
    {
     "name": "stdout",
     "output_type": "stream",
     "text": [
      "CPU times: total: 15.4 s\n",
      "Wall time: 15.5 s\n"
     ]
    }
   ],
   "source": [
    "%%time\n",
    "\n",
    "cities = ['Anqing', 'Hefei', 'Tongling', 'Chizhou', 'Jiujiang',]# 'Wuhu', 'Maanshan']\n",
    "\n",
    "for city in cities:\n",
    "    shp = gpd.read_file(f'./shp/{city}.shp')\n",
    "    for i in range(np.size(lat,0)):\n",
    "        for j in range(np.size(lat,1)):\n",
    "            if polygon_to_mask(shp.geometry[0], lon[i, j], lat[i, j]) == True:\n",
    "                input[f'{city}'][:, :, i, j] = 1\n",
    "            else:\n",
    "                input[f'{city}'][:, :, i, j] = 0"
   ]
  },
  {
   "cell_type": "code",
   "execution_count": 10,
   "metadata": {},
   "outputs": [
    {
     "name": "stdout",
     "output_type": "stream",
     "text": [
      "0.06596887\n"
     ]
    },
    {
     "data": {
      "text/plain": [
       "(1, 1, 138, 135)"
      ]
     },
     "execution_count": 10,
     "metadata": {},
     "output_type": "execute_result"
    }
   ],
   "source": [
    "aq2 = input['Hefei']\n",
    "print(np.mean(aq2))\n",
    "aq2.shape"
   ]
  },
  {
   "cell_type": "code",
   "execution_count": 13,
   "metadata": {},
   "outputs": [
    {
     "name": "stdout",
     "output_type": "stream",
     "text": [
      "0.0\n"
     ]
    }
   ],
   "source": [
    "input['LAT'][:]=0\n",
    "input['LON'][:]=0\n",
    "print(np.mean(input['LAT']))"
   ]
  },
  {
   "cell_type": "code",
   "execution_count": 21,
   "metadata": {},
   "outputs": [],
   "source": [
    "input.close()"
   ]
  },
  {
   "attachments": {},
   "cell_type": "markdown",
   "metadata": {},
   "source": [
    "---\n",
    "删除nc中多余的变量(未能成功保存入文件)"
   ]
  },
  {
   "cell_type": "code",
   "execution_count": 54,
   "metadata": {},
   "outputs": [
    {
     "name": "stdout",
     "output_type": "stream",
     "text": [
      "TFLAG\n",
      "LAT\n",
      "LON\n",
      "MSFX2\n",
      "HT\n",
      "DLUSE\n",
      "LWMASK\n",
      "PURB\n",
      "Anqing\n",
      "Hefei\n",
      "Tongling\n",
      "Chizhou\n",
      "Jiujiang\n"
     ]
    }
   ],
   "source": [
    "output = nc.Dataset('./input/GRIDCRO2D_2023100.nc',mode='r+')\n",
    "for var in output.variables:\n",
    "    print(var)"
   ]
  },
  {
   "cell_type": "code",
   "execution_count": 55,
   "metadata": {},
   "outputs": [
    {
     "name": "stdout",
     "output_type": "stream",
     "text": [
      "TFLAG\n",
      "LAT\n",
      "LON\n",
      "Anqing\n",
      "Hefei\n",
      "Tongling\n",
      "Chizhou\n",
      "Jiujiang\n"
     ]
    }
   ],
   "source": [
    "names = ['MSFX2','HT','DLUSE','LWMASK','PURB']\n",
    "\n",
    "for name in names:\n",
    "    del output.variables[name]\n",
    "\n",
    "for var in output.variables:\n",
    "    print(var)"
   ]
  },
  {
   "cell_type": "code",
   "execution_count": 57,
   "metadata": {},
   "outputs": [],
   "source": [
    "output.close()"
   ]
  }
 ],
 "metadata": {
  "kernelspec": {
   "display_name": "base",
   "language": "python",
   "name": "python3"
  },
  "language_info": {
   "codemirror_mode": {
    "name": "ipython",
    "version": 3
   },
   "file_extension": ".py",
   "mimetype": "text/x-python",
   "name": "python",
   "nbconvert_exporter": "python",
   "pygments_lexer": "ipython3",
   "version": "3.8.8"
  },
  "orig_nbformat": 4
 },
 "nbformat": 4,
 "nbformat_minor": 2
}
