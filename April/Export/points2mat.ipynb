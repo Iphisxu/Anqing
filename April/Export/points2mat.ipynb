{
 "cells": [
  {
   "attachments": {},
   "cell_type": "markdown",
   "metadata": {},
   "source": [
    "# 根据要求导出`WRF-CMAQ`模拟数据\n",
    "2、\t四个国控点的数据。各指标如O3浓度、PM2.5浓度、NO2浓度、各过程贡献、各来源贡献和敏感性指标（HNO3/H2O2比值）的时间序列，可以存成一个excel表格，例如第一列是时间（小时），第二列是O3浓度，第三列….。\n",
    "\n",
    "---\n",
    "*@author: Evan*\\\n",
    "*@date: 2023-05-14*"
   ]
  },
  {
   "cell_type": "code",
   "execution_count": 1,
   "metadata": {},
   "outputs": [],
   "source": [
    "import xarray as xr\n",
    "import numpy as np\n",
    "import pandas as pd\n",
    "from scipy.io import savemat\n",
    "\n",
    "from matplotlib import rcParams\n",
    "config = {\n",
    "    \"font.family\":'Times New Roman',\n",
    "    \"mathtext.fontset\":'stix',\n",
    "    \"font.serif\": ['SimSun'],\n",
    "}\n",
    "rcParams.update(config)\n",
    "\n",
    "# silence the warning note\n",
    "import warnings\n",
    "warnings.filterwarnings(\"ignore\")\n",
    "\n",
    "import sys\n",
    "sys.path.append('../src/')\n",
    "from findpoint import findpoint\n",
    "import ModelEvaLib as me"
   ]
  },
  {
   "cell_type": "code",
   "execution_count": 2,
   "metadata": {},
   "outputs": [],
   "source": [
    "chemFile = xr.open_dataset('F:/Data/case_anqing/April/April_chem.nc')\n",
    "metFile  = xr.open_dataset('F:/Data/case_anqing/April/April_met.nc')\n",
    "isam = xr.open_dataset('F:/Data/case_anqing/April/April_ISAM1.nc')\n",
    "pa=xr.open_dataset('F:/Data/case_anqing/April/April_PA1.nc')\n",
    "\n",
    "lat = chemFile.latitude\n",
    "lon = chemFile.longitude\n",
    "\n",
    "ncfile = chemFile.O3\n",
    "\n",
    "nlevel = 21\n",
    "O3   = chemFile.O3[:,:nlevel,:,:]\n",
    "NO2  = chemFile.NO2[:,:nlevel,:,:]\n",
    "PM25 = chemFile.PM25[:,:nlevel,:,:]\n",
    "ht   = chemFile.HT[:,:nlevel,:,:]\n",
    "\n",
    "HADV = pa.HADV_O3[:,:nlevel,:,:]\n",
    "ZADV = pa.ZADV_O3[:,:nlevel,:,:]\n",
    "HDIF = pa.HDIF_O3[:,:nlevel,:,:]\n",
    "VDIF = pa.VDIF_O3[:,:nlevel,:,:]\n",
    "DDEP = pa.DDEP_O3[:,:nlevel,:,:]\n",
    "CHEM = pa.CHEM_O3[:,:nlevel,:,:]\n",
    "\n",
    "AQ  = isam.O3_AQ[:,:nlevel,:,:]\n",
    "HF  = isam.O3_HF[:,:nlevel,:,:]\n",
    "TL  = isam.O3_TL[:,:nlevel,:,:]\n",
    "CZ  = isam.O3_CZ[:,:nlevel,:,:]\n",
    "JJ  = isam.O3_JJ[:,:nlevel,:,:]\n",
    "OTH = isam.O3_OTH[:,:nlevel,:,:]\n",
    "BCO = isam.O3_BCO[:,:nlevel,:,:]\n",
    "ICO = isam.O3_ICO[:,:nlevel,:,:]\n",
    "\n",
    "HNO3 = pa.HNO3prod[:,:nlevel,:,:]\n",
    "H2O2 = pa.H2O2prod[:,:nlevel,:,:]"
   ]
  },
  {
   "cell_type": "code",
   "execution_count": 3,
   "metadata": {},
   "outputs": [
    {
     "data": {
      "text/plain": [
       "站点名称\n",
       "安庆大学      116.9898\n",
       "市人大       117.0597\n",
       "环科院       117.0807\n",
       "马山宾馆      117.0331\n",
       "安庆政务中心    117.1150\n",
       "Name: 经度, dtype: float64"
      ]
     },
     "execution_count": 3,
     "metadata": {},
     "output_type": "execute_result"
    }
   ],
   "source": [
    "siteloc = pd.read_excel('F:/Data/case_anqing/April/obsdata/安庆市站点坐标.xlsx',header=0,index_col=0)\n",
    "\n",
    "sites = ['安庆大学','市人大','环科院','马山宾馆','安庆政务中心']\n",
    "\n",
    "lono = siteloc[siteloc.index.isin(sites)]['经度']\n",
    "lato = siteloc[siteloc.index.isin(sites)]['纬度']\n",
    "\n",
    "lono"
   ]
  },
  {
   "cell_type": "code",
   "execution_count": 4,
   "metadata": {},
   "outputs": [],
   "source": [
    "x_index=[]\n",
    "y_index=[]\n",
    "\n",
    "for name in sites:\n",
    "    out_x, out_y = findpoint(lono[name],lato[name],ncfile)\n",
    "    x_index.append(out_x)\n",
    "    y_index.append(out_y)\n",
    "O3_sel = O3.isel(x=x_index, y=y_index)\n",
    "NO2_sel  = NO2.isel(x=x_index, y=y_index)\n",
    "PM25_sel = PM25.isel(x=x_index, y=y_index)\n",
    "htsel    = ht.isel(x=x_index, y=y_index)\n",
    "\n",
    "HADV_sel  = HADV.isel(x=x_index, y=y_index)\n",
    "ZADV_sel  = ZADV.isel(x=x_index, y=y_index)\n",
    "HDIF_sel  = HDIF.isel(x=x_index, y=y_index)\n",
    "VDIF_sel  = VDIF.isel(x=x_index, y=y_index)\n",
    "DDEP_sel  = DDEP.isel(x=x_index, y=y_index)\n",
    "CHEM_sel  = CHEM.isel(x=x_index, y=y_index)\n",
    "\n",
    "HNO3_sel = HNO3.isel(x=x_index, y=y_index)\n",
    "H2O2_sel = H2O2.isel(x=x_index, y=y_index)\n",
    "\n",
    "AQ_sel  = AQ.isel(x=x_index, y=y_index)\n",
    "HF_sel  = HF.isel(x=x_index, y=y_index)\n",
    "TL_sel  = TL.isel(x=x_index, y=y_index)\n",
    "CZ_sel  = CZ.isel(x=x_index, y=y_index)\n",
    "JJ_sel  = JJ.isel(x=x_index, y=y_index)\n",
    "OTH_sel = OTH.isel(x=x_index, y=y_index)\n",
    "BCO_sel = BCO.isel(x=x_index, y=y_index)\n",
    "ICO_sel = ICO.isel(x=x_index, y=y_index)"
   ]
  },
  {
   "cell_type": "code",
   "execution_count": 6,
   "metadata": {},
   "outputs": [],
   "source": [
    "diag_O3   = np.diagonal(O3_sel, axis1=2, axis2=3)\n",
    "diag_NO2  = np.diagonal(NO2_sel, axis1=2, axis2=3)\n",
    "diag_PM25 = np.diagonal(PM25_sel, axis1=2, axis2=3)\n",
    "diag_ht   = np.diagonal(htsel, axis1=2, axis2=3)"
   ]
  },
  {
   "cell_type": "code",
   "execution_count": 7,
   "metadata": {},
   "outputs": [],
   "source": [
    "diag_HADV  = np.diagonal(HADV_sel, axis1=2, axis2=3)\n",
    "diag_ZADV  = np.diagonal(ZADV_sel, axis1=2, axis2=3)\n",
    "diag_HDIF  = np.diagonal(HDIF_sel, axis1=2, axis2=3)\n",
    "diag_VDIF  = np.diagonal(VDIF_sel, axis1=2, axis2=3)\n",
    "diag_DDEP  = np.diagonal(DDEP_sel, axis1=2, axis2=3)\n",
    "diag_CHEM  = np.diagonal(CHEM_sel, axis1=2, axis2=3)"
   ]
  },
  {
   "cell_type": "code",
   "execution_count": 9,
   "metadata": {},
   "outputs": [],
   "source": [
    "diag_AQ  = np.diagonal(AQ_sel, axis1=2, axis2=3)\n",
    "diag_HF  = np.diagonal(HF_sel, axis1=2, axis2=3)\n",
    "diag_TL  = np.diagonal(TL_sel, axis1=2, axis2=3)\n",
    "diag_CZ  = np.diagonal(CZ_sel, axis1=2, axis2=3)\n",
    "diag_JJ  = np.diagonal(JJ_sel, axis1=2, axis2=3)\n",
    "diag_OTH = np.diagonal(OTH_sel, axis1=2, axis2=3)\n",
    "diag_BCO = np.diagonal(BCO_sel, axis1=2, axis2=3)\n",
    "diag_ICO = np.diagonal(ICO_sel, axis1=2, axis2=3)"
   ]
  },
  {
   "cell_type": "code",
   "execution_count": 10,
   "metadata": {},
   "outputs": [],
   "source": [
    "savemat(\n",
    "    'D:/Download/points.mat',\n",
    "    {\n",
    "    'height':diag_ht,\n",
    "    'O3':diag_O3,\n",
    "    'NO2':diag_NO2,\n",
    "    'PM25':diag_PM25,\n",
    "    'HADV':diag_HADV,\n",
    "    'ZADV':diag_ZADV,\n",
    "    'HDIF':diag_HDIF,\n",
    "    'VDIF':diag_VDIF,\n",
    "    'DDEP':diag_DDEP,\n",
    "    'CHEM':diag_CHEM,\n",
    "    'AQ':diag_AQ,\n",
    "    'HF':diag_HF,\n",
    "    'TL':diag_TL,\n",
    "    'CZ':diag_CZ,\n",
    "    'JJ':diag_JJ,\n",
    "    'OTH':diag_OTH,\n",
    "    'BCO':diag_BCO,\n",
    "    'ICO':diag_ICO\n",
    "    }\n",
    "    )"
   ]
  }
 ],
 "metadata": {
  "kernelspec": {
   "display_name": "base",
   "language": "python",
   "name": "python3"
  },
  "language_info": {
   "codemirror_mode": {
    "name": "ipython",
    "version": 3
   },
   "file_extension": ".py",
   "mimetype": "text/x-python",
   "name": "python",
   "nbconvert_exporter": "python",
   "pygments_lexer": "ipython3",
   "version": "3.8.8"
  },
  "orig_nbformat": 4
 },
 "nbformat": 4,
 "nbformat_minor": 2
}
