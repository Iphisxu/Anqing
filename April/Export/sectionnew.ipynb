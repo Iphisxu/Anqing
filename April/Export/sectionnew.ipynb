{
 "cells": [
  {
   "attachments": {},
   "cell_type": "markdown",
   "metadata": {},
   "source": [
    "# 根据要求导出`WRF-CMAQ`模拟数据\n",
    "两大剖面的数据。用matlab存成三维数组，三个维度分别是水平位置、垂直高度和小时时刻，用这样的三维数组去装载各指标，包括**O3浓度、PM2.5浓度、NO2浓度、各过程贡献、各来源贡献**，例如O3浓度的三维数组是CO3（2点位,300米,4月2日13时）=75μg/m3。其中水平位置可以用1~n代表n个经纬度组合，再单独给一个对照表即可，例如2点位=（E 113.6°、N 29.1°）。\n",
    "\n",
    "---\n",
    "*@author: Evan*\\\n",
    "*@date: 2023-05-15*"
   ]
  },
  {
   "cell_type": "code",
   "execution_count": 1,
   "metadata": {},
   "outputs": [],
   "source": [
    "import xarray as xr\n",
    "import numpy as np\n",
    "import pandas as pd\n",
    "from scipy.io import savemat\n",
    "\n",
    "from matplotlib import rcParams\n",
    "config = {\n",
    "    \"font.family\":'Times New Roman',\n",
    "    \"mathtext.fontset\":'stix',\n",
    "    \"font.serif\": ['SimSun'],\n",
    "}\n",
    "rcParams.update(config)\n",
    "\n",
    "# silence the warning note\n",
    "import warnings\n",
    "warnings.filterwarnings(\"ignore\")\n",
    "\n",
    "import sys\n",
    "sys.path.append('../src/')\n",
    "from findpoint import findpoint\n",
    "import ModelEvaLib as me"
   ]
  },
  {
   "cell_type": "code",
   "execution_count": 2,
   "metadata": {},
   "outputs": [],
   "source": [
    "lon1, lat1 = 116.6, 31.1\n",
    "lon2, lat2 = 117.4, 30.1\n",
    "\n",
    "lon3, lat3 = 116.1, 29.74\n",
    "lon4, lat4 = 117.46, 30.85\n",
    "\n",
    "lon5, lat5 = 116.8, 30.54\n",
    "lon6, lat6 = 117.3, 30.5"
   ]
  },
  {
   "cell_type": "code",
   "execution_count": 3,
   "metadata": {},
   "outputs": [],
   "source": [
    "chemFile = xr.open_dataset('F:/Data/case_anqing/April/April_chem.nc')\n",
    "metFile  = xr.open_dataset('F:/Data/case_anqing/April/April_met.nc')\n",
    "isam = xr.open_dataset('F:/Data/case_anqing/April/April_ISAM1.nc')\n",
    "pa=xr.open_dataset('F:/Data/case_anqing/April/April_PA1.nc')\n",
    "\n",
    "nlevel = 21\n",
    "number = 50\n",
    "\n",
    "lat = chemFile.latitude\n",
    "lon = chemFile.longitude\n",
    "\n",
    "O3   = chemFile.O3[:,:nlevel,:,:]\n",
    "NO2  = chemFile.NO2[:,:nlevel,:,:]\n",
    "PM25 = chemFile.PM25[:,:nlevel,:,:]\n",
    "ht   = chemFile.HT[:,:nlevel,:,:]\n",
    "\n",
    "# mda8   = O3.rolling(time=8).mean().resample({'time':'D'}).max(dim='time')\n",
    "# NO2avg = NO2.resample({'time':'D'}).mean(dim='time')\n",
    "# PMavg  = PM25.resample({'time':'D'}).mean(dim='time')\n",
    "# htavg  = ht.resample({'time':'D'}).mean(dim='time')\n",
    "# print(mda8.shape)\n",
    "\n",
    "HADV = pa.HADV_O3[:,:nlevel,:,:]\n",
    "ZADV = pa.ZADV_O3[:,:nlevel,:,:]\n",
    "HDIF = pa.HDIF_O3[:,:nlevel,:,:]\n",
    "VDIF = pa.VDIF_O3[:,:nlevel,:,:]\n",
    "DDEP = pa.DDEP_O3[:,:nlevel,:,:]\n",
    "CHEM = pa.CHEM_O3[:,:nlevel,:,:]\n",
    "\n",
    "AQ  = isam.O3_AQ[:,:nlevel,:,:]\n",
    "HF  = isam.O3_HF[:,:nlevel,:,:]\n",
    "TL  = isam.O3_TL[:,:nlevel,:,:]\n",
    "CZ  = isam.O3_CZ[:,:nlevel,:,:]\n",
    "JJ  = isam.O3_JJ[:,:nlevel,:,:]\n",
    "OTH = isam.O3_OTH[:,:nlevel,:,:]\n",
    "BCO = isam.O3_BCO[:,:nlevel,:,:]\n",
    "ICO = isam.O3_ICO[:,:nlevel,:,:]"
   ]
  },
  {
   "attachments": {},
   "cell_type": "markdown",
   "metadata": {},
   "source": [
    "## Line1"
   ]
  },
  {
   "cell_type": "code",
   "execution_count": 4,
   "metadata": {},
   "outputs": [
    {
     "data": {
      "text/plain": [
       "(720, 21, 50)"
      ]
     },
     "execution_count": 4,
     "metadata": {},
     "output_type": "execute_result"
    }
   ],
   "source": [
    "# 生成沿两个点连线的坐标\n",
    "lons1 = np.linspace(lon1,lon2,num=number)\n",
    "lats1 = np.linspace(lat1,lat2,num=number)\n",
    "\n",
    "# 选取这些点在数据集中的最接近的网格点的数据\n",
    "x_index = []\n",
    "y_index = []\n",
    "\n",
    "for i in range(number): \n",
    "    out_x, out_y = findpoint(lons1[i],lats1[i],O3)\n",
    "    x_index.append(out_x)\n",
    "    y_index.append(out_y)\n",
    "O3_sel   = O3.isel(x=x_index, y=y_index)\n",
    "NO2_sel  = NO2.isel(x=x_index, y=y_index)\n",
    "PM25_sel = PM25.isel(x=x_index, y=y_index)\n",
    "htsel    = ht.isel(x=x_index, y=y_index)\n",
    "\n",
    "diag_O3   = np.diagonal(O3_sel, axis1=2, axis2=3)\n",
    "diag_NO2  = np.diagonal(NO2_sel, axis1=2, axis2=3)\n",
    "diag_PM25 = np.diagonal(PM25_sel, axis1=2, axis2=3)\n",
    "diag_ht   = np.diagonal(htsel, axis1=2, axis2=3)\n",
    "\n",
    "diag_O3.shape"
   ]
  },
  {
   "cell_type": "code",
   "execution_count": 5,
   "metadata": {},
   "outputs": [
    {
     "data": {
      "text/plain": [
       "(720, 21, 50)"
      ]
     },
     "execution_count": 5,
     "metadata": {},
     "output_type": "execute_result"
    }
   ],
   "source": [
    "HADV_sel  = HADV.isel(x=x_index, y=y_index)\n",
    "ZADV_sel  = ZADV.isel(x=x_index, y=y_index)\n",
    "HDIF_sel  = HDIF.isel(x=x_index, y=y_index)\n",
    "VDIF_sel  = VDIF.isel(x=x_index, y=y_index)\n",
    "DDEP_sel  = DDEP.isel(x=x_index, y=y_index)\n",
    "CHEM_sel  = CHEM.isel(x=x_index, y=y_index)\n",
    "\n",
    "diag_HADV  = np.diagonal(HADV_sel, axis1=2, axis2=3)\n",
    "diag_ZADV  = np.diagonal(ZADV_sel, axis1=2, axis2=3)\n",
    "diag_HDIF  = np.diagonal(HDIF_sel, axis1=2, axis2=3)\n",
    "diag_VDIF  = np.diagonal(VDIF_sel, axis1=2, axis2=3)\n",
    "diag_DDEP  = np.diagonal(DDEP_sel, axis1=2, axis2=3)\n",
    "diag_CHEM  = np.diagonal(CHEM_sel, axis1=2, axis2=3)\n",
    "\n",
    "diag_HADV.shape"
   ]
  },
  {
   "cell_type": "code",
   "execution_count": 6,
   "metadata": {},
   "outputs": [
    {
     "data": {
      "text/plain": [
       "(720, 21, 50)"
      ]
     },
     "execution_count": 6,
     "metadata": {},
     "output_type": "execute_result"
    }
   ],
   "source": [
    "AQ_sel  = AQ.isel(x=x_index, y=y_index)\n",
    "HF_sel  = HF.isel(x=x_index, y=y_index)\n",
    "TL_sel  = TL.isel(x=x_index, y=y_index)\n",
    "CZ_sel  = CZ.isel(x=x_index, y=y_index)\n",
    "JJ_sel  = JJ.isel(x=x_index, y=y_index)\n",
    "OTH_sel = OTH.isel(x=x_index, y=y_index)\n",
    "BCO_sel = BCO.isel(x=x_index, y=y_index)\n",
    "ICO_sel = ICO.isel(x=x_index, y=y_index)\n",
    "\n",
    "diag_AQ  = np.diagonal(AQ_sel, axis1=2, axis2=3)\n",
    "diag_HF  = np.diagonal(HF_sel, axis1=2, axis2=3)\n",
    "diag_TL  = np.diagonal(TL_sel, axis1=2, axis2=3)\n",
    "diag_CZ  = np.diagonal(CZ_sel, axis1=2, axis2=3)\n",
    "diag_JJ  = np.diagonal(JJ_sel, axis1=2, axis2=3)\n",
    "diag_OTH = np.diagonal(OTH_sel, axis1=2, axis2=3)\n",
    "diag_BCO = np.diagonal(BCO_sel, axis1=2, axis2=3)\n",
    "diag_ICO = np.diagonal(ICO_sel, axis1=2, axis2=3)\n",
    "\n",
    "diag_AQ.shape"
   ]
  },
  {
   "cell_type": "code",
   "execution_count": 7,
   "metadata": {},
   "outputs": [],
   "source": [
    "df_line1 = pd.DataFrame(\n",
    "    index=np.arange(1,51),\n",
    "    data={'经度':lons1,'纬度':lats1}\n",
    ")\n",
    "df_line1.to_excel('D:/Download/newsec1.xlsx')"
   ]
  },
  {
   "cell_type": "code",
   "execution_count": 8,
   "metadata": {},
   "outputs": [],
   "source": [
    "savemat(\n",
    "    'D:/Download/newsec1.mat',\n",
    "    {\n",
    "    'height':diag_ht,\n",
    "    'O3':diag_O3,\n",
    "    'NO2':diag_NO2,\n",
    "    'PM25':diag_PM25,\n",
    "    'HADV':diag_HADV,\n",
    "    'ZADV':diag_ZADV,\n",
    "    'HDIF':diag_HDIF,\n",
    "    'VDIF':diag_VDIF,\n",
    "    'DDEP':diag_DDEP,\n",
    "    'CHEM':diag_CHEM,\n",
    "    'AQ':diag_AQ,\n",
    "    'HF':diag_HF,\n",
    "    'TL':diag_TL,\n",
    "    'CZ':diag_CZ,\n",
    "    'JJ':diag_JJ,\n",
    "    'OTH':diag_OTH,\n",
    "    'BCO':diag_BCO,\n",
    "    'ICO':diag_ICO\n",
    "    }\n",
    "    )"
   ]
  }
 ],
 "metadata": {
  "kernelspec": {
   "display_name": "base",
   "language": "python",
   "name": "python3"
  },
  "language_info": {
   "codemirror_mode": {
    "name": "ipython",
    "version": 3
   },
   "file_extension": ".py",
   "mimetype": "text/x-python",
   "name": "python",
   "nbconvert_exporter": "python",
   "pygments_lexer": "ipython3",
   "version": "3.8.8"
  },
  "orig_nbformat": 4
 },
 "nbformat": 4,
 "nbformat_minor": 2
}
